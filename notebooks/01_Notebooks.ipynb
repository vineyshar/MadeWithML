{
  "nbformat": 4,
  "nbformat_minor": 0,
  "metadata": {
    "colab": {
      "name": "01_Notebooks",
      "provenance": [],
      "collapsed_sections": [],
      "toc_visible": true,
      "include_colab_link": true
    },
    "kernelspec": {
      "name": "python3",
      "display_name": "Python 3"
    }
  },
  "cells": [
    {
      "cell_type": "markdown",
      "metadata": {
        "id": "view-in-github",
        "colab_type": "text"
      },
      "source": [
        "<a href=\"https://colab.research.google.com/github/vineyshar/MadeWithML/blob/main/notebooks/01_Notebooks.ipynb\" target=\"_parent\"><img src=\"https://colab.research.google.com/assets/colab-badge.svg\" alt=\"Open In Colab\"/></a>"
      ]
    },
    {
      "cell_type": "markdown",
      "metadata": {
        "id": "n2Pg6kkssQwE"
      },
      "source": [
        "\n",
        "<div align=\"center\">\n",
        "<h1><img width=\"30\" src=\"https://madewithml.com/static/images/rounded_logo.png\">&nbsp;<a href=\"https://madewithml.com/\">Made With ML</a></h1>\n",
        "Applied ML · MLOps · Production\n",
        "<br>\n",
        "Join 30K+ developers in learning how to responsibly <a href=\"https://madewithml.com/about/\">deliver value</a> with ML.\n",
        "    <br>\n",
        "</div>\n",
        "\n",
        "<br>\n",
        "\n",
        "<div align=\"center\">\n",
        "    <a target=\"_blank\" href=\"https://newsletter.madewithml.com\"><img src=\"https://img.shields.io/badge/Subscribe-30K-brightgreen\"></a>&nbsp;\n",
        "    <a target=\"_blank\" href=\"https://github.com/GokuMohandas/MadeWithML\"><img src=\"https://img.shields.io/github/stars/GokuMohandas/MadeWithML.svg?style=social&label=Star\"></a>&nbsp;\n",
        "    <a target=\"_blank\" href=\"https://www.linkedin.com/in/goku\"><img src=\"https://img.shields.io/badge/style--5eba00.svg?label=LinkedIn&logo=linkedin&style=social\"></a>&nbsp;\n",
        "    <a target=\"_blank\" href=\"https://twitter.com/GokuMohandas\"><img src=\"https://img.shields.io/twitter/follow/GokuMohandas.svg?label=Follow&style=social\"></a>\n",
        "    <br>\n",
        "    🔥&nbsp; Among the <a href=\"https://github.com/topics/deep-learning\" target=\"_blank\">top ML</a> repositories on GitHub\n",
        "</div>\n",
        "\n",
        "<br>\n",
        "<hr>"
      ]
    },
    {
      "cell_type": "markdown",
      "metadata": {
        "id": "pa5_r2M_ZzLG"
      },
      "source": [
        "# Notebooks\n",
        "\n",
        "In this lesson, we'll learn about how to work with notebooks. "
      ]
    },
    {
      "cell_type": "markdown",
      "metadata": {
        "id": "orR8HhgnPY1U"
      },
      "source": [
        "<div align=\"left\">\n",
        "<a target=\"_blank\" href=\"https://madewithml.com/courses/foundations/notebooks/\"><img src=\"https://img.shields.io/badge/📖 Read-blog post-9cf\"></a>&nbsp;\n",
        "<a href=\"https://github.com/GokuMohandas/MadeWithML/blob/main/notebooks/01_Notebooks.ipynb\" role=\"button\"><img src=\"https://img.shields.io/static/v1?label=&amp;message=View%20On%20GitHub&amp;color=586069&amp;logo=github&amp;labelColor=2f363d\"></a>&nbsp;\n",
        "<a href=\"https://colab.research.google.com/github/GokuMohandas/MadeWithML/blob/main/notebooks/01_Notebooks.ipynb\"><img src=\"https://colab.research.google.com/assets/colab-badge.svg\" alt=\"Open In Colab\"></a>\n",
        "</div>"
      ]
    },
    {
      "cell_type": "markdown",
      "metadata": {
        "id": "-Nsq7J22UOGO"
      },
      "source": [
        "# Set Up"
      ]
    },
    {
      "cell_type": "markdown",
      "metadata": {
        "id": "G28BW1LgMZ-c"
      },
      "source": [
        "1. Click on this link to open the accompanying [notebook]() for this lesson or create a blank one on [Google Colab](https://colab.research.google.com/).\n",
        "2. Sign into your [Google account](https://accounts.google.com/signin) to start using the notebook. If you don't want to save your work, you can skip the steps below. If you do not have access to Google, you can follow along using [Jupyter Lab](https://jupyter.org/).\n",
        "3. If you do want to save your work, click the **COPY TO DRIVE** button on the toolbar. This will open a new notebook in a new tab. Rename this new notebook by removing the words Copy of from the title (change `Copy of 01_Notebooks` to `01_Notebooks`).\n",
        "\n",
        "<div align=\"center\">\n",
        "<img src=\"https://raw.githubusercontent.com/GokuMohandas/MadeWithML/main/images/foundations/notebooks/copy_to_drive.png\" width=\"400\">&emsp;&emsp;<img src=\"https://raw.githubusercontent.com/GokuMohandas/MadeWithML/main/images/foundations/notebooks/rename.png\" width=\"320\">\n",
        "</div>"
      ]
    },
    {
      "cell_type": "markdown",
      "metadata": {
        "id": "cOEaLCZAu4JQ"
      },
      "source": [
        "# Types of cells"
      ]
    },
    {
      "cell_type": "markdown",
      "metadata": {
        "id": "WcOgqq5xvtMn"
      },
      "source": [
        "Notebooks are made up of cells. Each cell can either be a `code cell` or a `text cell`. \n",
        "\n",
        "*   `code cell`: used for writing and executing code.\n",
        "*   `text cell`: used for writing text, HTML, Markdown, etc.\n",
        "\n",
        "\n"
      ]
    },
    {
      "cell_type": "markdown",
      "metadata": {
        "id": "tBVFofpLutnn"
      },
      "source": [
        "# Creating cells"
      ]
    },
    {
      "cell_type": "markdown",
      "metadata": {
        "id": "CfSTXDx9LClf"
      },
      "source": [
        "First, let's create a text cell. Click on a desired location in the notebook and create the cell by clicking on the `➕ TEXT` (located in the top left corner). \n",
        "\n",
        "<div align=\"left\">\n",
        "<img src=\"https://raw.githubusercontent.com/GokuMohandas/MadeWithML/main/images/foundations/notebooks/text_cell.png\" width=\"320\">\n",
        "</div>\n",
        "\n",
        "Once you create the cell, click on it and type the following text inside it:\n",
        "\n",
        "\n",
        "```\n",
        "### This is a header\n",
        "Hello world!\n",
        "```"
      ]
    },
    {
      "cell_type": "markdown",
      "metadata": {
        "id": "2O5EqrqbWBlH"
      },
      "source": [
        "### This is a header\n",
        "Hello world!"
      ]
    },
    {
      "cell_type": "markdown",
      "metadata": {
        "id": "iXYgZpgpYS3N"
      },
      "source": [
        "# Running cells"
      ]
    },
    {
      "cell_type": "markdown",
      "metadata": {
        "id": "8og2NZxaO7Nj"
      },
      "source": [
        "Once you type inside the cell, press the `SHIFT` and `RETURN` (enter key) together to run the cell."
      ]
    },
    {
      "cell_type": "markdown",
      "metadata": {
        "id": "WKTbiBuvYexD"
      },
      "source": [
        "# Editing cells"
      ]
    },
    {
      "cell_type": "markdown",
      "metadata": {
        "id": "J_kM3zBEO9Zp"
      },
      "source": [
        "To edit a cell, double click on it and make any changes."
      ]
    },
    {
      "cell_type": "markdown",
      "metadata": {
        "id": "Jv0ZSuhNYVIU"
      },
      "source": [
        "# Moving cells"
      ]
    },
    {
      "cell_type": "markdown",
      "metadata": {
        "id": "pv3XtKpLPAY6"
      },
      "source": [
        "Once you create the cell, you can move it up and down by clicking on the cell and then pressing the ⬆ and ⬇ button on the top right of the cell. \n",
        "\n",
        "<div align=\"left\">\n",
        "<img src=\"https://raw.githubusercontent.com/GokuMohandas/MadeWithML/main/images/foundations/notebooks/move_cell.png\" width=\"500\">\n",
        "</div>"
      ]
    },
    {
      "cell_type": "markdown",
      "metadata": {
        "id": "B_VGiYf8YXiU"
      },
      "source": [
        "# Deleting cells"
      ]
    },
    {
      "cell_type": "markdown",
      "metadata": {
        "id": "vKrqxJEmTfQU"
      },
      "source": [
        "You can delete the cell by clicking on it and pressing the trash can button 🗑️ on the top right corner of the cell. Alternatively, you can also press ⌘/Ctrl + M + D.\n",
        "\n",
        "<div align=\"left\">\n",
        "<img src=\"https://raw.githubusercontent.com/GokuMohandas/MadeWithML/main/images/foundations/notebooks/delete_cell.png\" width=\"500\">\n",
        "</div>"
      ]
    },
    {
      "cell_type": "markdown",
      "metadata": {
        "id": "hxl7Fk8LVQmR"
      },
      "source": [
        "# Creating a code cell\n"
      ]
    },
    {
      "cell_type": "markdown",
      "metadata": {
        "id": "lnvxXte0PB0p"
      },
      "source": [
        "You can repeat the steps above to create and edit a *code* cell. You can create a code cell by clicking on the `➕ CODE` (located in the top left corner).\n",
        "\n",
        "<div align=\"left\">\n",
        "<img src=\"https://raw.githubusercontent.com/GokuMohandas/MadeWithML/main/images/foundations/notebooks/code_cell.png\" width=\"320\">\n",
        "</div>\n",
        "\n",
        "Once you've created the code cell, double click on it, type the following inside it and then press `Shift + Enter` to execute the code.\n",
        "\n",
        "```\n",
        "print (\"Hello world!\")\n",
        "```"
      ]
    },
    {
      "cell_type": "code",
      "metadata": {
        "id": "DfGf9KmQ3DJM",
        "colab": {
          "base_uri": "https://localhost:8080/",
          "height": 34
        },
        "outputId": "2ec9fcb8-e2e9-4b65-e27f-f6229d77c3c0"
      },
      "source": [
        "print (\"Hello world!\")"
      ],
      "execution_count": null,
      "outputs": [
        {
          "output_type": "stream",
          "text": [
            "Hello world!\n"
          ],
          "name": "stdout"
        }
      ]
    },
    {
      "cell_type": "markdown",
      "metadata": {
        "id": "r2w9xzDkuAXw"
      },
      "source": [
        "These are the basic concepts you'll need to use these notebooks but we'll learn few more tricks in subsequent lessons."
      ]
    }
  ]
}